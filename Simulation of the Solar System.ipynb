{
 "cells": [
  {
   "cell_type": "markdown",
   "metadata": {},
   "source": [
    "# Simulation of planetary orbits\n",
    "\n",
    "## Introduction\n",
    "\n",
    "Developed and executed complex simulation codes in Python using the Euler method to accurately model the \n",
    "dynamic behavior of the solar system over a 10-year time span with different initial conditions.\n",
    "Generated comprehensive data visualisations and analysis reports to effectively communicate the findings of the solar \n",
    "system simulation, resulting in increased understanding of planetary motion.\n",
    "\n",
    "The laws of gravitational attraction are derived from Newtonian Mechanics and implemented ny using a numerical method called Euler method. General Relativity is not taken into account for the sake of simplicity. The vetor force of attraction is given by: \n",
    "\n",
    "$$F_{12} = - G \\frac{ m_1 m_2}{r_{21}^2} \\hat{r_{21}}$$\n",
    "\n",
    "where\n",
    "\n",
    " - $F_{12}$ is the gravitational force exerted on the first mass by the second mass, $\\mathrm{N}$\n",
    " - $G$ is the gravitation constant, 6.674 × 10−11 $\\mathrm{N \\ m^2 \\ kg^{-2}}$\n",
    " - $m_1$ is the mass of the first mass, $\\mathrm{kg}$\n",
    " - $m_2$ is the mass of the second mass, $\\mathrm{kg}$ \n",
    " - $\\hat{r_{21}}$ is unit position vector from the second mass to the first mass\n",
    " \n",
    "The position and velocity of a planet is updated using a time step, which will be represented as dt in this notebook, and can be found by using the following equations which utilise a numeric method:\n",
    "\n",
    "$$ \\delta r = v \\delta t $$\n",
    "$$ \\delta v = a \\delta t $$\n",
    "$$ r(t + \\delta t) = r(t) + v \\delta t $$\n",
    "$$ v(t + \\delta t) = v(t) + a \\delta t $$"
   ]
  },
  {
   "cell_type": "code",
   "execution_count": null,
   "metadata": {},
   "outputs": [],
   "source": [
    "%matplotlib notebook\n",
    "import matplotlib.pyplot as plt\n",
    "from matplotlib import animation\n",
    "from IPython.display import HTML\n",
    "import numpy as np\n",
    "from numpy.linalg import norm"
   ]
  },
  {
   "cell_type": "markdown",
   "metadata": {},
   "source": [
    "## Part A"
   ]
  },
  {
   "cell_type": "markdown",
   "metadata": {},
   "source": [
    "### 1. Calculating the gravitational force between two objects\n",
    "\n",
    "You should complete the following function, without changing its name, arguments or docstring, to calculate the force on one object due to the gravitational field of another."
   ]
  },
  {
   "cell_type": "code",
   "execution_count": null,
   "metadata": {},
   "outputs": [],
   "source": [
    "def force(pos1, pos2, m1, m2):\n",
    "    \"\"\"\n",
    "    Returns the gravitational force exerted by object 2 on object 1.\n",
    "    Input:\n",
    "      - pos1 = position vector of first object  (NumPy array)\n",
    "      - pos2 = position vector of second object (NumPy array)\n",
    "      - m1   = mass of first object\n",
    "      - m2   = mass of second object\n",
    "    Depends on:\n",
    "      - G    = gravitational constant (global variable)\n",
    "    \"\"\"\n",
    "    \n",
    "    r_vector = np.array(pos2) - np.array(pos1)                                                # relative position vector\n",
    "    magnitude_r = np.linalg.norm(r_vector)                                # magnitude of the position vector\n",
    "    G_force_magnitude = (G * m1 * m2) / (magnitude_r ** 2)                # magnitude of the gravitational force\n",
    "    G_force_vector = G_force_magnitude * r_vector / magnitude_r           # vector of the gravitational force\n",
    "    return G_force_vector"
   ]
  },
  {
   "cell_type": "markdown",
   "metadata": {},
   "source": [
    "#### Testing your function\n",
    "\n",
    "The following cell applies some tests to help you make sure your `force` function works correctly before you use it in the rest of the task. You do not need to understand the details of how it works, but it may help you narrow down any bugs in your code. If each line of output starts with `OK` then it is likely (but not guaranteed) that you have implemented the function correctly.\n",
    "\n",
    "Please leave the code in this cell unchanged: you may add your own tests if you wish, but these should be in a separate cell."
   ]
  },
  {
   "cell_type": "code",
   "execution_count": null,
   "metadata": {},
   "outputs": [],
   "source": [
    "################################################\n",
    "#                                              #\n",
    "# Test force is correct in a few simple cases. #\n",
    "#                                              #\n",
    "#   DO NOT CHANGE THE CODE IN THIS CELL.       #\n",
    "#                                              #\n",
    "################################################\n",
    "\n",
    "def test_force(pos1, pos2, m1, m2, expected_force):\n",
    "    \"\"\"Check whether force function gives expected results.\"\"\"\n",
    "    epsilon = 1e-10\n",
    "    f = force(np.array(pos1), np.array(pos2), m1, m2)\n",
    "    if not isinstance(f,np.ndarray):\n",
    "        print(f\"ERROR: function should return a vector but returns {f}.\")\n",
    "        return\n",
    "    args_as_string = f\"({pos1}, {pos2}, {m1}, {m2})\"\n",
    "    error = norm(f-expected_force)\n",
    "    if error<epsilon:\n",
    "        print(f\"OK: correct results for input {args_as_string}\")\n",
    "    else:\n",
    "        print(f\"ERROR: wrong results for input {args_as_string}\")\n",
    "        print(f\"  expected: {expected_force}\")\n",
    "        print(f\"  got:      {f}\")\n",
    "\n",
    "# Set global variable G to 1 for now to make testing easier\n",
    "G=1\n",
    "\n",
    "# Test force with some simple cases\n",
    "test_force((0,0),(1,0),1,1,(1,0))    # distance = 1 in x direction\n",
    "test_force((1,0),(0,0),1,1,(-1,0))   # swap objects\n",
    "test_force((0,0),(2,0),1,1,(0.25,0)) # distance = 2\n",
    "test_force((0,0),(0,1),1,1,(0,1))    # distance = 1 in y direction\n",
    "test_force((10,0),(10,1),1,1,(0,1))  # displaced from origin\n",
    "test_force((0,0),(1,0),2,1,(2,0))    # non-unit mass 1\n",
    "test_force((0,0),(1,0),1,2,(2,0))    # non-unit mass 2"
   ]
  },
  {
   "cell_type": "markdown",
   "metadata": {},
   "source": [
    "### 2. Calculating the motion of a planet in the gravitational field of a star\n",
    "\n",
    "You should complete the following function, without changing its name, arguments or docstring, to calculate the new position and velocity of a planet after a time step `dt`, in the gravitational field of a star of a given mass situated at the origin. This function will need to call `force` to calculate the acceleration vector of the planet."
   ]
  },
  {
   "cell_type": "code",
   "execution_count": null,
   "metadata": {},
   "outputs": [],
   "source": [
    "def move_planet(position, velocity, m_star, dt):\n",
    "    \"\"\"\n",
    "    Calculate motion of planet in the gravitational field of a star with given mass\n",
    "    at the origin, using Euler's method.\n",
    "    \n",
    "    Input:\n",
    "      - position: position vector of planet at start of time step (NumPy array)\n",
    "      - velocity: velocity vector of planet at start of time step (NumPy array)\n",
    "      - m_star:   mass of star\n",
    "      - dt:       time step\n",
    "      \n",
    "    Output: (position_new, velocity_new)\n",
    "      - position_new: position vector of planet at end of time step (NumPy array)\n",
    "      - velocity_new: velocity vector of planet at end of time step (NumPy array)\n",
    "      \n",
    "    Depends on:\n",
    "      - force = function to calculate the gravitational force between two objects\n",
    "    \"\"\"\n",
    "    \n",
    "    p_initial = np.array(position)\n",
    "    v = np.array(velocity)\n",
    "    position_new = p_initial + v * dt\n",
    "    m_planet = 1   # Take any number. It does not matter because it will be cancelled in the next step\n",
    "    acceleration = force(np.array([0,0]), position, m_star, m_planet) / m_planet\n",
    "    velocity_new = v - acceleration * dt\n",
    "    return position_new, velocity_new"
   ]
  },
  {
   "cell_type": "markdown",
   "metadata": {},
   "source": [
    "#### Testing your function\n",
    "\n",
    "The following cell applies some tests to help you make sure your `move_planet` function works correctly before you use it in the rest of the task. You do not need to understand the details of how it works, but it may help you narrow down any bugs in your code. If each line of output starts with `OK` then it is likely (but not guaranteed) that you have implemented the function correctly.\n",
    "\n",
    "Please leave the code in this cell unchanged: you may add your own tests if you wish, but these should be in a separate cell. "
   ]
  },
  {
   "cell_type": "code",
   "execution_count": null,
   "metadata": {},
   "outputs": [],
   "source": [
    "######################################################\n",
    "#                                                    #\n",
    "# Test move_planet is correct in a few simple cases. #\n",
    "#                                                    #\n",
    "#   DO NOT CHANGE THE CODE IN THIS CELL.             #\n",
    "#                                                    #\n",
    "######################################################\n",
    "\n",
    "def test_move_planet(position, velocity, m_star, dt, expected_pos, expected_vel):\n",
    "    \"\"\"Check whether move_planet function gives expected results.\"\"\"\n",
    "    epsilon = 1e-10\n",
    "    results = move_planet(position, velocity, m_star, dt)\n",
    "    if not isinstance(results, tuple):\n",
    "        print(f\"ERROR: function should return two vectors but returns {results}.\")\n",
    "        return\n",
    "    if not len(results)==2:\n",
    "        print(f\"ERROR: function should return two vectors but returns {results}.\")\n",
    "        return\n",
    "    pos, vel = results\n",
    "    if not (isinstance(pos,np.ndarray) and isinstance(vel,np.ndarray)):\n",
    "        print(f\"ERROR: function should return two vectors but returns {results}.\")\n",
    "        return\n",
    "    args_as_string = f\"{position}, {velocity}, {m_star}, {dt}\"\n",
    "    err_pos, err_vel = norm(pos - expected_pos), norm(vel - expected_vel)\n",
    "    if err_pos < epsilon and err_vel < epsilon:\n",
    "        print(f\"OK: correct results for input {args_as_string}\")\n",
    "    else:\n",
    "        print(f\"ERROR: wrong results for input {args_as_string}\")\n",
    "        print(f\"  expected: {expected_pos, expected_vel}\")\n",
    "        print(f\"  got:      {results}\")\n",
    "\n",
    "# Set global variable G to 1 for now to make testing easier\n",
    "G=1\n",
    "\n",
    "# Test move_planet with some simple cases\n",
    "test_move_planet((1,0), (1,0), 1, 0, (1,0), (1,0))    # dt = 0: output = input\n",
    "test_move_planet((1,0), (1,0), 1, 1, (2,0), (0,0))    # moving away from star\n",
    "test_move_planet((0,1), (0,-1), 1, 1, (0,0), (0,-2))  # moving towards star\n",
    "test_move_planet((1,0), (0,1), 1, 1, (1,1), (-1,1))   # moving past star\n",
    "test_move_planet((1,0), (0,1), 1, 0.1, (1,0.1), (-0.1,1))  # smaller dt\n",
    "test_move_planet((1,0), (0,1), 2, 0.1, (1,0.1), (-0.2,1))  # larger star mass\n",
    "test_move_planet((2,0), (1,0), 1, 1, (3,0), (0.75,0)) # non-unit distance"
   ]
  },
  {
   "cell_type": "markdown",
   "metadata": {},
   "source": [
    "### 3. Calculating the orbit of a planet\n",
    "\n",
    "You should complete the following function, without changing its name, arguments or docstring, to calculate the $x$ and $y$ coordinates of a planet at each time step."
   ]
  },
  {
   "cell_type": "code",
   "execution_count": null,
   "metadata": {},
   "outputs": [],
   "source": [
    "def trajectory(position, velocity, m_star, dt, t_max):\n",
    "    \"\"\"\n",
    "    Calculate trajectory of planet from given starting position, using Euler's method.\n",
    "    \n",
    "    Input:\n",
    "      - position: position vector of planet at start of simulation [m] (NumPy array)\n",
    "      - velocity: velocity vector of planet at start of simulation [m] (NumPy array)\n",
    "      - m_star:   mass of star [kg]\n",
    "      - dt:       time step    [s]\n",
    "      - t_max:    duration of calculated motion [s]\n",
    "\n",
    "    Output: (x_arr, y_arr) [m]\n",
    "        where x_arr and y_arr are NumPy arrays containing the x and y coordinates of\n",
    "        the planet at each time step, starting with the initial position\n",
    "    \"\"\"\n",
    "\n",
    "    p_start_sim = np.array([0., 0.])                           \n",
    "    t = 0\n",
    "    x, y = position\n",
    "    x_arr, y_arr = [x], [y]\n",
    "    while t<=t_max:\n",
    "        t += dt\n",
    "        position, velocity =  move_planet(position, velocity, m_star, dt)\n",
    "        x, y = position\n",
    "        x_arr.append(x)\n",
    "        y_arr.append(y)\n",
    "    return x_arr, y_arr"
   ]
  },
  {
   "cell_type": "markdown",
   "metadata": {},
   "source": [
    "#### Testing your function\n",
    "\n",
    "If you have implemented all three functions correctly, the following cell should show an almost circular orbit."
   ]
  },
  {
   "cell_type": "code",
   "execution_count": null,
   "metadata": {},
   "outputs": [],
   "source": [
    "G       = 6.6743e-11 # gravitational constant [m^3 kg^-1 s^-2]\n",
    "YEAR    = 3.154e7    # one year in seconds\n",
    "M_STAR  = 2.5e30     # mass of star [kg]\n",
    "\n",
    "dt = YEAR/10000      # time step for Euler's method\n",
    "pos = (2.0e11, 0)    # initial position (x,y) [m]\n",
    "vel = (0,2.89e4)     # initial velocity (vx,vy) [m/s]\n",
    "\n",
    "# Calculate trajectory\n",
    "x_test, y_test = trajectory(pos,vel,M_STAR,dt,2*YEAR)\n",
    "\n",
    "# Plot trajectory\n",
    "fig, axes = plt.subplots()\n",
    "axes.set_aspect('equal')\n",
    "plt.title('Trajectory of planet')\n",
    "plt.xlabel('x [m]')\n",
    "plt.ylabel('y [m]')\n",
    "plt.plot(x_test, y_test)"
   ]
  },
  {
   "cell_type": "markdown",
   "metadata": {},
   "source": [
    "### 4. Animating the orbit"
   ]
  },
  {
   "cell_type": "markdown",
   "metadata": {},
   "source": [
    "To better visualise the motion of the planet, we create an animation showing the changing position of the planet, with a trail to show its path.\n",
    "\n",
    "As seen in unit 9, we define a function that updates the display of the planet and trail:-"
   ]
  },
  {
   "cell_type": "code",
   "execution_count": null,
   "metadata": {},
   "outputs": [],
   "source": [
    "def animate_with_trail(i, planet, trail, x_arr, y_arr):\n",
    "    \"\"\"\n",
    "    Update display for projectile motion, with trail.\n",
    "    \n",
    "    Arguments:\n",
    "        i:      frame number (from 0 at time = 0)\n",
    "        planet: Line2D object containing coordinates of planet\n",
    "        trail:  Line2D object containing coordinates of trail\n",
    "        x_arr:  array of x coordinate at teach time step\n",
    "        y_arr:  array of y coordinate at teach time step\n",
    "\n",
    "    Result: updates coordinates in Line2D objects provided as arguments\n",
    "    \"bodies\" and \"trails\".\n",
    "    \"\"\"\n",
    "    x, y = x_arr[i], y_arr[i]\n",
    "    planet.set_data([x],[y])                # Body gets coordinates of current position\n",
    "    trail.set_data(x_arr[:i+1],y_arr[:i+1]) # Trail has all points up to the current one"
   ]
  },
  {
   "cell_type": "markdown",
   "metadata": {},
   "source": [
    "To make it easier to create different simulations without repeating too much code, we define a function to create an animation using the calculated trajectory. As well as the arrays of x and y values, we have to pass it the time step used in the simulation, the number of frames per second to use in the animation, and the \"speedup\" factor, which is the ratio of the simulated time (which is typically of order years) to the real time (typically of order seconds).\n",
    "\n",
    "To create a relatively smoothly animation with the finite power of our computer, we can't plot every position we have calculated along the trajectory, but have to pick every $N$th position, where $N$ is chosen to match our animation frame rate to our calculated trajectory."
   ]
  },
  {
   "cell_type": "code",
   "execution_count": null,
   "metadata": {},
   "outputs": [],
   "source": [
    "def create_animation(x_arr, y_arr, dt, fps, speedup):\n",
    "    \"\"\"\n",
    "    Create an animation of an object with given trajectory.\n",
    "    \n",
    "    Arguments:\n",
    "        x_arr, y_arr: arrays of x and y coordinates at each time step [m]\n",
    "        dt:           time step in simulation [s]\n",
    "        fps:          number of frames per second for animation\n",
    "        speedup:      ratio of simulated time to screen time\n",
    "    \"\"\"\n",
    "    # Find range of coordinates to include full trajectory\n",
    "    x_max = max(np.abs(x_arr))\n",
    "    y_max = max(np.abs(y_arr))\n",
    "    r_max = 1.05 * max(x_max, y_max)\n",
    "    \n",
    "    # Create and configure figure and axes\n",
    "    plt.ioff()\n",
    "    fig, axes = plt.subplots()\n",
    "    axes.set_xlim(-r_max,r_max)\n",
    "    axes.set_ylim(-r_max,r_max)\n",
    "    axes.set_aspect('equal')\n",
    "    axes.set_title('Trajectory of planet')\n",
    "    axes.set_xlabel('x [m]')\n",
    "    axes.set_ylabel('y [m]')\n",
    "    plt.plot(0,0,'o',color=\"orange\", markersize=10)\n",
    "\n",
    "    # Create Line2D objects to represent body and trail\n",
    "    planet,  = axes.plot([],[],'o')\n",
    "    trail,   = axes.plot([],[],'-')\n",
    "\n",
    "    # Get arrays of coordinates to display (subset of provided data)\n",
    "    frame_interval = 1/fps                  # time between frames [s]\n",
    "    skip = round(frame_interval*speedup/dt) # number of calculated points per frame\n",
    "    x_plot = x_arr[::skip]  # take every Nth value (N = skip)\n",
    "    y_plot = y_arr[::skip]\n",
    "    n_frames = len(x_plot)\n",
    "\n",
    "    # Create and return animation object\n",
    "    ani = animation.FuncAnimation(fig,animate_with_trail, frames=n_frames, interval=frame_interval*1000,\n",
    "                                  fargs=[planet, trail, x_plot, y_plot])\n",
    "    return ani"
   ]
  },
  {
   "cell_type": "markdown",
   "metadata": {},
   "source": [
    "***Animating your calculated orbit.***\n",
    "\n",
    "In the cell below, write some code that calls this function to create an animation of the orbit you have calculated above. You should choose parameters to create a fairly smooth animation that takes a few seconds to run."
   ]
  },
  {
   "cell_type": "code",
   "execution_count": null,
   "metadata": {},
   "outputs": [],
   "source": [
    "G       = 6.6743e-11 # gravitational constant [m^3 kg^-1 s^-2]\n",
    "YEAR    = 3.154e7    # one year in seconds\n",
    "M_STAR  = 2.5e30     # mass of star [kg]\n",
    "\n",
    "dt = YEAR/10000      # time step for Euler's method\n",
    "pos = (2.0e11, 0)    # initial position (x,y) [m]\n",
    "vel = (0,2.89e4)     # initial velocity (vx,vy) [m/s]\n",
    "\n",
    "\n",
    "fps = 60\n",
    "speedup = 5000000"
   ]
  },
  {
   "cell_type": "code",
   "execution_count": null,
   "metadata": {},
   "outputs": [],
   "source": [
    "ani_orbit = create_animation(x_test, y_test, dt, fps, speedup)\n",
    "\n",
    "HTML(ani_orbit.to_jshtml())"
   ]
  },
  {
   "cell_type": "markdown",
   "metadata": {},
   "source": [
    "### 5. Investigation\n",
    "\n",
    "You should insert code and text cells below as required to investigate and discuss the effect of changing the parameters of the animation: time step, mass of star, initial position and velocity of planet."
   ]
  },
  {
   "cell_type": "markdown",
   "metadata": {},
   "source": [
    "### *changing time-step*"
   ]
  },
  {
   "cell_type": "code",
   "execution_count": null,
   "metadata": {},
   "outputs": [],
   "source": [
    "# This dt is 10 times larger than the one used in section 3\n",
    "\n",
    "x_test, y_test = trajectory(pos,vel,M_STAR,YEAR/1000,2*YEAR)\n",
    "\n",
    "ani_orbit_1 = create_animation(x_test, y_test, YEAR/1000, fps, speedup)\n",
    "HTML(ani_orbit_1.to_jshtml())"
   ]
  },
  {
   "cell_type": "code",
   "execution_count": null,
   "metadata": {},
   "outputs": [],
   "source": [
    "# This dt is 10 times smaller than the one used in section 3\n",
    "\n",
    "x_test, y_test = trajectory(pos,vel,M_STAR,YEAR/100000,2*YEAR)\n",
    "    \n",
    "ani_orbit_2 = create_animation(x_test, y_test, YEAR/100000, fps, speedup)\n",
    "HTML(ani_orbit_2.to_jshtml())"
   ]
  },
  {
   "cell_type": "markdown",
   "metadata": {},
   "source": [
    "##### Effect of changing dt\n",
    "The motion of the planet with differen time steps (10 times and 0.1 times) has been noticed and a higher time step leading to growing radius of orbit with respect of passage of time is observed. With the timestep updated to 0.1 dt, the change is radius after a single orbit is negligible, on the other hand, a clear and noticeable increase in radius can be seen when timestep is magnified by 10 times the original dt."
   ]
  },
  {
   "cell_type": "markdown",
   "metadata": {},
   "source": [
    "### *changing the mass of the star*"
   ]
  },
  {
   "cell_type": "code",
   "execution_count": null,
   "metadata": {},
   "outputs": [],
   "source": [
    "# This mass of the star is 2 times larger than the one used in section 3\n",
    "\n",
    "x_test, y_test = trajectory(pos,vel,5e30,dt,2*YEAR)\n",
    "\n",
    "ani_orbit_3 = create_animation(x_test, y_test, dt, fps, speedup)\n",
    "HTML(ani_orbit_3.to_jshtml())"
   ]
  },
  {
   "cell_type": "code",
   "execution_count": null,
   "metadata": {},
   "outputs": [],
   "source": [
    "# This mass of the star in 2 times smaller than the one used in section 3\n",
    "\n",
    "x_test, y_test = trajectory(pos,vel,1.25e30,dt,2*YEAR)\n",
    "\n",
    "ani_orbit_4 = create_animation(x_test, y_test, dt, fps, speedup)\n",
    "HTML(ani_orbit_4.to_jshtml())"
   ]
  },
  {
   "cell_type": "markdown",
   "metadata": {},
   "source": [
    "###### Effect of changing mass of the star\n",
    "\n",
    "Motion of the planet with different mass of the star is observed.\n",
    "\n",
    "\n",
    "\n",
    "\n",
    "When the mass of the star is increased to twice its original mass, the gravitational force between the star and planet is increased which resulted in reduced radius during the first half of the orbit. The orbit makes a shape of ellipse with eccentricity < 1. Another visible feature of the orbit is the increasing radius with each elapsed revolution around the star, which is most noticeable at the aphelion.\n",
    "\n",
    "When the mass of the star is reduced by two times, the gravitational attraction between the star and the planet gets reduced and the planet starts to move away from the star in a hyperbolic trajectory with eccentricity > 1. As the planet continues it trajectory, it gets farther and farther from the star and the attractive force weekens by F $\\propto$ $\\frac{1}{r^{2}}$, leading to lesser and lesser curved path. "
   ]
  },
  {
   "cell_type": "markdown",
   "metadata": {},
   "source": [
    "### *changing the initial position of the planet*"
   ]
  },
  {
   "cell_type": "code",
   "execution_count": null,
   "metadata": {},
   "outputs": [],
   "source": [
    "# The initial position of the planet is 2 times further\n",
    "\n",
    "x_test, y_test = trajectory((4e11, 0),vel,M_STAR,dt,2*YEAR)\n",
    "\n",
    "ani_orbit_5 = create_animation(x_test, y_test, dt, fps, speedup)\n",
    "HTML(ani_orbit_5.to_jshtml())"
   ]
  },
  {
   "cell_type": "code",
   "execution_count": null,
   "metadata": {},
   "outputs": [],
   "source": [
    "# The initial position of the planet 2 times closer\n",
    "\n",
    "x_test, y_test = trajectory((1e11, 0),vel,M_STAR,dt,2*YEAR)\n",
    "\n",
    "ani_orbit_6 = create_animation(x_test, y_test, dt, fps, speedup)\n",
    "HTML(ani_orbit_6.to_jshtml())"
   ]
  },
  {
   "cell_type": "markdown",
   "metadata": {},
   "source": [
    "###### Effects of changing initial position of the planet\n",
    "\n",
    "The motion of the planet with different initial positions relative to the star is observed.\n",
    "\n",
    "When the planet was placed at $\\frac{1}{2}$ of the original x-coordinate, the orbit exhibits the shape of an ecclipse with eccentricity < 1. The size of the orbit increases with each revolution. The velocity of the planet changes with respect to Kepler's second law. \n",
    "\n",
    "It behaves the same way as when the mass of the star doubled.\n",
    "\n",
    "When the planet moves away by a factor of $2$ relative to the initial x-coordinate, the gravitational force weekens and the planet makes its trajectory away from the star in a hyperbolic curve with an eccentricity of > 1. \n",
    "\n",
    "It behaves the same way as when the mass of the star halved."
   ]
  },
  {
   "cell_type": "markdown",
   "metadata": {},
   "source": [
    "### *changing the velocity of the planet*"
   ]
  },
  {
   "cell_type": "code",
   "execution_count": null,
   "metadata": {},
   "outputs": [],
   "source": [
    "# Increasing the initial velocity of the planet 2 times\n",
    "\n",
    "x_test, y_test = trajectory(pos,(0,5.78e4),M_STAR,dt,2*YEAR)\n",
    "\n",
    "ani_orbit_7 = create_animation(x_test, y_test, dt, fps, speedup)\n",
    "HTML(ani_orbit_7.to_jshtml())"
   ]
  },
  {
   "cell_type": "code",
   "execution_count": null,
   "metadata": {},
   "outputs": [],
   "source": [
    "# Decreasing the initial velocity of the planet 2 times\n",
    "\n",
    "x_test, y_test = trajectory(pos,(0,1.445e4),M_STAR,dt,2*YEAR)\n",
    "\n",
    "ani_orbit_8 = create_animation(x_test, y_test, dt, fps, speedup)\n",
    "HTML(ani_orbit_8.to_jshtml())"
   ]
  },
  {
   "cell_type": "markdown",
   "metadata": {},
   "source": [
    "##### Effects of changing the initial velocity of the planet\n",
    "\n",
    "The motion of the planet with different initial volcities is observed.\n",
    "\n",
    "When the velocity of the planet is increased by $10$ times, it pushes the planets out of the stronger regions of the gravitational field of attraction and the planet, no longer bounds by the force, follows a linear trajectory.\n",
    "\n",
    "When the velocity of the planet is halved, the planet can not make a full circle around the planet and is drawn into the orbit to follow an elliptical shape, with each radi of the orbit greater than the last. "
   ]
  },
  {
   "cell_type": "markdown",
   "metadata": {},
   "source": [
    "## Part B"
   ]
  },
  {
   "cell_type": "markdown",
   "metadata": {},
   "source": [
    "### Two non-interacting planets"
   ]
  },
  {
   "cell_type": "markdown",
   "metadata": {},
   "source": [
    "#### Animation of two planets orbiting a single star"
   ]
  },
  {
   "cell_type": "code",
   "execution_count": null,
   "metadata": {},
   "outputs": [],
   "source": [
    "def move_planets(position1, velocity1, position2, velocity2, m_star, dt):\n",
    "    \"\"\"\n",
    "    Calculate motion of planets in the gravitational field of a star with given mass\n",
    "    at the origin, using Euler's method.\n",
    "    \n",
    "    Input:\n",
    "      - position1: position vector of planet1 at start of time step (NumPy array)\n",
    "      - velocity1: velocity vector of planet1 at start of time step (NumPy array)\n",
    "      - position2: position vector of planet2 at start of time step (NumPy array)\n",
    "      - velocity2: velocity vector of planet2 at start of time step (NumPy array)\n",
    "      - m_star:    mass of star\n",
    "      - dt:        time step\n",
    "      \n",
    "    Output: (position_new1, velocity_new1, position_new2, velocity_new2)\n",
    "      - position_new1: position vector of planet1 at end of time step (NumPy array)\n",
    "      - velocity_new1: velocity vector of planet1 at end of time step (NumPy array)\n",
    "      - position_new2: position vector of planet2 at end of time step (NumPy array)\n",
    "      - velocity_new2: velocity vector of planet2 at end of time step (NumPy array)\n",
    "      \n",
    "    Depends on:\n",
    "      - force = function to calculate the gravitational force between two objects\n",
    "    \"\"\"\n",
    "    \n",
    "    p_initial1 = np.array(position1)\n",
    "    p_initial2 = np.array(position2)\n",
    "    v1 = np.array(velocity1)\n",
    "    v2 = np.array(velocity2)\n",
    "    \n",
    "    position_new1 = p_initial1 + v1 * dt\n",
    "    position_new2 = p_initial2 + v2 * dt\n",
    "    \n",
    "    m_planet1 = 1   # Take any number. It does not matter because it will be cancelled in the next step\n",
    "    m_planet2 = 1\n",
    "    acceleration1 = force (np.array([0,0]), position1, m_star, m_planet1) / m_planet1\n",
    "    acceleration2 = force (np.array([0,0]), position2 , m_star, m_planet2) / m_planet2\n",
    "    velocity_new1 = v1 - acceleration1 * dt\n",
    "    velocity_new2 = v2 - acceleration2 * dt\n",
    "    return position_new1, velocity_new1, position_new2, velocity_new2"
   ]
  },
  {
   "cell_type": "code",
   "execution_count": null,
   "metadata": {},
   "outputs": [],
   "source": [
    "def trajectorys(position1,velocity1, position2, velocity2, m_star, dt, t_max):\n",
    "    \"\"\"\n",
    "    Calculate trajectories of planeta from given starting positions, using Euler's method.\n",
    "    \n",
    "    Input:\n",
    "      - position1: position vector of planet1 at start of simulation [m] (NumPy array)\n",
    "      - velocity1: velocity vector of planet1 at start of simulation [m] (NumPy array)\n",
    "      - position2: position vector of planet2 at start of simulation [m] (NumPy array)\n",
    "      - velocity2: velocity vector of planet2 at start of simulation [m] (NumPy array)\n",
    "      - m_star:   mass of star [kg]\n",
    "      - dt:       time step    [s]\n",
    "      - t_max:    duration of calculated motion [s]\n",
    "\n",
    "    Output: (x_arr1, y_arr1, x_arr2, y_arr2) [m]\n",
    "        where x_arr and y_arr are NumPy arrays containing the x and y coordinates of\n",
    "        the planets at each time step, starting with the initial positions\n",
    "    \"\"\"\n",
    "\n",
    "    p_start_sim1 = np.array([0., 0.]) \n",
    "    p_start_sim2 = np.array([0., 0.])\n",
    "    t = 0\n",
    "    x1, y1 = position1\n",
    "    x2, y2 = position2\n",
    "    x_arr1, y_arr1 = [x1], [y1]\n",
    "    x_arr2, y_arr2 = [x2], [y2]\n",
    "    while t<=t_max:\n",
    "        t += dt\n",
    "        position1, velocity1, position2, velocity2 =  move_planets(position1, velocity1, position2, velocity2, m_star, dt)\n",
    "        x1, y1 = position1\n",
    "        x2, y2 = position2\n",
    "        x_arr1.append(x1)\n",
    "        y_arr1.append(y1)\n",
    "        x_arr2.append(x2)\n",
    "        y_arr2.append(y2)\n",
    "        \n",
    "    return x_arr1, y_arr1, x_arr2, y_arr2"
   ]
  },
  {
   "cell_type": "code",
   "execution_count": null,
   "metadata": {},
   "outputs": [],
   "source": [
    "G       = 6.6743e-11 # gravitational constant [m^3 kg^-1 s^-2]\n",
    "YEAR    = 3.154e7    # one year in seconds\n",
    "M_STAR  = 2.5e30     # mass of star [kg]\n",
    "\n",
    "dt = YEAR/10000          # time step for Euler's method\n",
    "pos1 = (2.0e11, 0)       # initial position of planet1 (x,y) [m]\n",
    "vel1 = (0,2.89e4)        # initial velocity of planet1 (vx,vy) [m/s]\n",
    "pos2 = (1.56e11,1.56e11) # initial position of planet2 (x,y) [m]\n",
    "vel2 = (-1.95e4,1.95e4)  # initial velocity of planet2 (vx,vy) [m/s]\n",
    "\n",
    "# Calculate trajectories\n",
    "x_test1, y_test1, x_test2, y_test2 = trajectorys(pos1,vel1,pos2,vel2,M_STAR,dt,2*YEAR)\n",
    "\n",
    "# Plot trajectories\n",
    "fig, axes = plt.subplots()\n",
    "axes.set_aspect('equal')\n",
    "\n",
    "plt.title('Trajectory of planet')\n",
    "plt.xlabel('x [m]')\n",
    "plt.ylabel('y [m]')\n",
    "plt.plot(x_test1, y_test1,x_test2, y_test2)"
   ]
  },
  {
   "cell_type": "code",
   "execution_count": null,
   "metadata": {},
   "outputs": [],
   "source": [
    "def animate_with_trails(i, planet1, trail1, x_arr1, y_arr1, planet2, trail2, x_arr2, y_arr2):\n",
    "    \"\"\"\n",
    "    Update display for projectile motion, with trail.\n",
    "    \n",
    "    Arguments:\n",
    "        i:      frame number (from 0 at time = 0)\n",
    "        planet: Line2D object containing coordinates of planet\n",
    "        trail:  Line2D object containing coordinates of trail\n",
    "        x_arr:  array of x coordinate at teach time step\n",
    "        y_arr:  array of y coordinate at teach time step\n",
    "\n",
    "    Result: updates coordinates in Line2D objects provided as arguments\n",
    "    \"bodies\" and \"trails\".\n",
    "    \"\"\"\n",
    "    x1, y1, x2, y2 = x_arr1[i], y_arr1[i], x_arr2[i], y_arr2[i]\n",
    "    planet1.set_data([x1],[y1])                # Body gets coordinates of current position\n",
    "    planet2.set_data([x2],[y2])\n",
    "    trail1.set_data(x_arr1[:i+1],y_arr1[:i+1]) # Trail has all points up to the current one\n",
    "    trail2.set_data(x_arr2[:i+1], y_arr2[:i+1])"
   ]
  },
  {
   "cell_type": "code",
   "execution_count": null,
   "metadata": {},
   "outputs": [],
   "source": [
    "def create_animations(x_arr1, y_arr1, x_arr2, y_arr2, dt, fps, speedup):\n",
    "    \"\"\"\n",
    "    Create an animation of an object with given trajectory.\n",
    "    \n",
    "    Arguments:\n",
    "        x_arr, y_arr: arrays of x and y coordinates at each time step [m]\n",
    "        dt:           time step in simulation [s]\n",
    "        fps:          number of frames per second for animation\n",
    "        speedup:      ratio of simulated time to screen time\n",
    "    \"\"\"\n",
    "    # Find range of coordinates to include full trajectory\n",
    "    x_max1 = max(np.abs(x_arr1))\n",
    "    y_max1 = max(np.abs(y_arr1))\n",
    "    x_max2 = max(np.abs(x_arr2))\n",
    "    y_max2 = max(np.abs(y_arr2))\n",
    "    r_max1 = 1.05 * max(x_max1, y_max1)\n",
    "    r_max2 = 1.05 * max(x_max2, y_max2)\n",
    "    \n",
    "    # Create and configure figure and axes\n",
    "    plt.ioff()\n",
    "    fig, axes = plt.subplots()\n",
    "    axes.set_xlim(-r_max1,r_max1)\n",
    "    axes.set_ylim(-r_max1,r_max1)\n",
    "    axes.set_aspect('equal')\n",
    "    axes.set_title('Trajectory of planet')\n",
    "    axes.set_xlabel('x [m]')\n",
    "    axes.set_ylabel('y [m]')\n",
    "    plt.plot(0,0,'o',color=\"orange\", markersize=10)\n",
    "\n",
    "    # Create Line2D objects to represent body and trail\n",
    "    planet1,  = axes.plot([],[],'o')\n",
    "    trail1,   = axes.plot([],[],'-')\n",
    "    \n",
    "    planet2,  = axes.plot([],[],'o')\n",
    "    trail2,   = axes.plot([],[],'-')\n",
    "\n",
    "    # Get arrays of coordinates to display (subset of provided data)\n",
    "    frame_interval = 1/fps                  # time between frames [s]\n",
    "    skip = round(frame_interval*speedup/dt) # number of calculated points per frame\n",
    "    x_plot1 = x_arr1[::skip]  # take every Nth value (N = skip)\n",
    "    y_plot1 = y_arr1[::skip]\n",
    "    \n",
    "    x_plot2 = x_arr2[::skip]  # take every Nth value (N = skip)\n",
    "    y_plot2 = y_arr2[::skip]\n",
    "    \n",
    "    n_frames1 = len(x_plot1)\n",
    "    n_frames2 = len(x_plot2)\n",
    "\n",
    "  # Create and return animation object\n",
    "    anis = animation.FuncAnimation(fig,animate_with_trails, frames=n_frames2, interval=frame_interval*1000,\n",
    "                                  fargs=[planet1, trail1, x_plot1, y_plot1, planet2, trail2, x_plot2, y_plot2])\n",
    "    return anis"
   ]
  },
  {
   "cell_type": "code",
   "execution_count": null,
   "metadata": {
    "scrolled": false
   },
   "outputs": [],
   "source": [
    "ani_orbits = create_animations(x_test1, y_test1, x_test2, y_test2, dt, fps, speedup)\n",
    "\n",
    "HTML(ani_orbits.to_jshtml())"
   ]
  },
  {
   "cell_type": "markdown",
   "metadata": {},
   "source": [
    "### Two planets with gravitational interactions "
   ]
  },
  {
   "cell_type": "code",
   "execution_count": null,
   "metadata": {},
   "outputs": [],
   "source": [
    "def move_planets_g(m1, position1, velocity1, m2, position2, velocity2, m_star, dt):\n",
    "    \"\"\"\n",
    "    Calculate motion of planet in the gravitational field of a star with given mass\n",
    "    at the origin, using Euler's method.\n",
    "    \n",
    "    Input:\n",
    "      - position: position vector of planet at start of time step (NumPy array)\n",
    "      - velocity: velocity vector of planet at start of time step (NumPy array)\n",
    "      - m_star:   mass of star\n",
    "      - dt:       time step\n",
    "      \n",
    "    Output: (position_new, velocity_new)\n",
    "      - position_new: position vector of planet at end of time step (NumPy array)\n",
    "      - velocity_new: velocity vector of planet at end of time step (NumPy array)\n",
    "      \n",
    "    Depends on:\n",
    "      - force = function to calculate the gravitational force between two objects\n",
    "    \"\"\"\n",
    "    \n",
    "    pos1 = np.array(position1)\n",
    "    pos2 = np.array(position2)\n",
    "    vel1 = np.array(velocity1)\n",
    "    vel2 = np.array(velocity2)\n",
    "    \n",
    "    \n",
    "    \n",
    "    #m_planet1 = 6e24   # Take any number. It does not matter because it will be cancelled in the next step\n",
    "    #m_planet2 = 6e24\n",
    "    acceleration1 = force (np.array([0,0]), position1, m_star, m1) / m1\n",
    "    acceleration2 = force (np.array([0,0]), position2, m_star, m2) / m2\n",
    "    acceleration21 = force (pos1, pos2, m1, m2 ) / m1\n",
    "    acceleration12 = force (pos1, pos2, m1, m2) / m2\n",
    "    \n",
    "    position_new1 = pos1 + vel1 * dt\n",
    "    position_new2 = pos2 + vel2 * dt\n",
    "    \n",
    "    velocity_new1 = vel1 - (acceleration1 + acceleration21) * dt\n",
    "    velocity_new2 = vel2 - (acceleration2 + acceleration12) * dt\n",
    "   \n",
    "   # velocity_new1 = v1 - acceleration1 * dt + v1 - acceleration21 * dt\n",
    "    #velocity_new2 = v2 - acceleration2 * dt + v1 - acceleration12 * dt\n",
    "    return position_new1, velocity_new1, position_new2, velocity_new2"
   ]
  },
  {
   "cell_type": "code",
   "execution_count": null,
   "metadata": {},
   "outputs": [],
   "source": [
    "def trajectorys_g(m1, pos1, vel1, m2, pos2, vel2, m_star, dt, t_max):\n",
    "    \"\"\"\n",
    "    Calculate trajectory of planet from given starting position, using Euler's method.\n",
    "    \n",
    "    Input:\n",
    "      - position: position vector of planet at start of simulation [m] (NumPy array)\n",
    "      - velocity: velocity vector of planet at start of simulation [m] (NumPy array)\n",
    "      - m_star:   mass of star [kg]\n",
    "      - dt:       time step    [s]\n",
    "      - t_max:    duration of calculated motion [s]\n",
    "\n",
    "    Output: (x_arr, y_arr) [m]\n",
    "        where x_arr and y_arr are NumPy arrays containing the x and y coordinates of\n",
    "        the planet at each time step, starting with the initial position\n",
    "    \"\"\"\n",
    "\n",
    "    p_start_sim1 = np.array([0., 0.]) \n",
    "    p_start_sim2 = np.array([0., 0.])\n",
    "    t = 0\n",
    "    x1, y1 = pos1\n",
    "    x2, y2 = pos2\n",
    "    x_arr1, y_arr1 = [x1], [y1]\n",
    "    x_arr2, y_arr2 = [x2], [y2]\n",
    "    while t<=t_max:\n",
    "        t += dt\n",
    "        pos1, vel1, pos2, vel2 =  move_planets_g(m1, pos1, vel1, m2, pos2, vel2, m_star, dt)\n",
    "        x1, y1 = pos1\n",
    "        x2, y2 = pos2\n",
    "        x_arr1.append(x1)\n",
    "        y_arr1.append(y1)\n",
    "        x_arr2.append(x2)\n",
    "        y_arr2.append(y2)\n",
    "        \n",
    "    return x_arr1, y_arr1, x_arr2, y_arr2"
   ]
  },
  {
   "cell_type": "code",
   "execution_count": null,
   "metadata": {},
   "outputs": [],
   "source": [
    "def create_animations_g(m_1, pos_1, vel_1, m_2, pos_2, vel_2, m_star, dt, t_max, fps, speedup):\n",
    "    \"\"\"\n",
    "    Create an animation of an object with given trajectory.\n",
    "    \n",
    "    Arguments:\n",
    "        x_arr, y_arr: arrays of x and y coordinates at each time step [m]\n",
    "        dt:           time step in simulation [s]\n",
    "        fps:          number of frames per second for animation\n",
    "        speedup:      ratio of simulated time to screen time\n",
    "    \"\"\"\n",
    "    #make into numpy arrays for use in calculation\n",
    "    pos_1 = np.array(pos1)       \n",
    "    vel_1 = np.array(vel1)\n",
    "    pos_2 = np.array(pos2)\n",
    "    vel_2 = np.array(vel2)\n",
    "\n",
    "    # Calculate trajectories\n",
    "    x_1, y_1, x_2, y_2 = trajectorys_g(m_1, pos_1, vel_1, m_2, pos_2, vel_2, m_star, dt, t_max)\n",
    "\n",
    "    #combine trajectories into list for trajectories\n",
    "    traj_m1 = [x_1, y_1]\n",
    "    traj_m2 = [x_2, y_2]\n",
    "    traj_m1_m2 = [traj_m1, traj_m2]\n",
    "    \n",
    "    anis_g = create_animations(x_1, y_1, x_2, y_2, dt, fps, speedup)\n",
    "    return HTML(anis_g.to_jshtml())"
   ]
  },
  {
   "cell_type": "code",
   "execution_count": null,
   "metadata": {},
   "outputs": [],
   "source": [
    "YEAR = 3.154e7"
   ]
  },
  {
   "cell_type": "code",
   "execution_count": null,
   "metadata": {},
   "outputs": [],
   "source": [
    "create_animations_g(6e24, [2.0e11,0], [0,2.89e4], 6e24, [1.56e11,1.56e11], [-1.95e4,1.95e4], 2.5e30, YEAR/10000, 5*YEAR, 50, YEAR/7)"
   ]
  },
  {
   "cell_type": "code",
   "execution_count": null,
   "metadata": {},
   "outputs": [],
   "source": [
    "# m2 = 1000 m1\n",
    "create_animations_g(6e24, [2.0e11,0], [0,2.89e4], 6e27, [1.56e11,1.56e11], [-1.95e4,1.95e4], 2.5e30, YEAR/10000, 5*YEAR, 10, YEAR/7)"
   ]
  },
  {
   "cell_type": "code",
   "execution_count": null,
   "metadata": {},
   "outputs": [],
   "source": [
    "# m_star is now = 5 times that of given parameter\n",
    "create_animations_g(6e24, [2.0e11,0], [0,2.89e4], 6e24, [1.56e11,1.56e11], [-1.95e4,1.95e4], 12.5e30, YEAR/10000, 5*YEAR, 50, YEAR/7)"
   ]
  },
  {
   "cell_type": "markdown",
   "metadata": {},
   "source": [
    "### Solar System"
   ]
  },
  {
   "cell_type": "code",
   "execution_count": null,
   "metadata": {},
   "outputs": [],
   "source": [
    "def animate_multiple(i, planets, trails, trajectories):\n",
    "    \"\"\"\n",
    "    Update display for motion of multiple bodies with trails.\n",
    "    \n",
    "    Arguments:\n",
    "        i:       frame number (from 0 at time = 0)\n",
    "        planets: list of Line2D objects containing coordinates of each body to move\n",
    "        trails:  list of Line2D objects containing coordinates of trails\n",
    "        trajectories: list of trajectories, each of the form [x_arr, y_arr]\n",
    "                 where x_arr and y_arr are arrays of x and y coordinates at\n",
    "                 each time step\n",
    "    \n",
    "    Note that all trajectories must have the same number of points.\n",
    "    \"\"\"\n",
    "    for j in range(len(trajectories)):    # for each trajectory ...\n",
    "        trajectory = trajectories[j]\n",
    "        x_arr, y_arr = trajectory         # get arrays of x and y coordinats\n",
    "        x, y = x_arr[i], y_arr[i]\n",
    "        planets[j].set_data([x],[y])\n",
    "        trails[j].set_data(x_arr[:i+1],y_arr[:i+1]) # Trail has all points up to this one\n",
    "\n",
    "#[1]         "
   ]
  },
  {
   "cell_type": "code",
   "execution_count": null,
   "metadata": {},
   "outputs": [],
   "source": [
    "def get_bodies_and_trails(axes, n):\n",
    "    \"\"\"\n",
    "    Get the required number of Line2D objects to represent the bodies\n",
    "    being animated, and the trails left behind them.\n",
    "    \n",
    "    Arguments:\n",
    "        axes: the axes to be used for plotting the bodies\n",
    "        n:    number of bodies in simulation\n",
    "    \n",
    "    Returns: (bodies, trails) where\n",
    "        bodies is a list of Line2D objects to be plotted as discs\n",
    "        trails is a list of Line2D objects to be plotted as lines\n",
    "    \"\"\"\n",
    "    bodies = []\n",
    "    trails = []\n",
    "    for i in range(n):              # repeat n times\n",
    "        body,  = axes.plot([],[],'o')           # Line2D with disc markers\n",
    "        col    = body.get_color()               # get colour of body ...\n",
    "        trail, = axes.plot([],[],'-',color=col) # and set trail (line) to same colour\n",
    "        bodies.append(body)         # add Line2D objects to lists\n",
    "        trails.append(trail)\n",
    "    return bodies, trails\n",
    "\n",
    "#[1] "
   ]
  },
  {
   "cell_type": "code",
   "execution_count": null,
   "metadata": {},
   "outputs": [],
   "source": [
    "def move_body(body,dt):\n",
    "    current_force = np.array([0.0,0.0])\n",
    "    \n",
    "    for other_body in all_bodies:\n",
    "        if (body[\"position\"][0] != other_body[\"position\"][0]) and (body[\"position\"][1] != other_body[\"position\"][1]):\n",
    "              current_force += force(body[\"position\"], other_body[\"position\"], body[\"mass\"], other_body[\"mass\"])\n",
    "    \n",
    "    acceleration = current_force/body[\"mass\"] # acceleration due to the star's gravity\n",
    "    velocity_new = np.array(body[\"velocity\"]) + acceleration * dt  # update the velocity\n",
    "    position_new = np.array(body[\"position\"]) + np.array(body[\"velocity\"]) * dt  # update the position\n",
    "    return position_new, velocity_new"
   ]
  },
  {
   "cell_type": "code",
   "execution_count": null,
   "metadata": {},
   "outputs": [],
   "source": [
    "def trajectory_body(body, dt, t_max):\n",
    "    \"\"\"\n",
    "    Calculate trajectory of planet from given starting position, using Euler's method.\n",
    "    \n",
    "    Input:\n",
    "      - body:     dictionary containing position, velocity and mass of a body\n",
    "      - dt:       time step    [s]\n",
    "      - t_max:    duration of calculated motion [s]\n",
    "\n",
    "    Output: (x_arr, y_arr) [m]\n",
    "        where x_arr and y_arr are NumPy arrays containing the x and y coordinates of\n",
    "        the planet at each time step, starting with the initial position\n",
    "    \"\"\"\n",
    "    ##################\n",
    "    x_arr = [body[\"position\"][0]]\n",
    "    y_arr = [body[\"position\"][1]]\n",
    "    for t in np.arange(0, t_max+dt, dt):\n",
    "        body[\"position\"], body[\"velocity\"] = move_body(body,dt)\n",
    "        x_arr.append(body[\"position\"][0])\n",
    "        y_arr.append(body[\"position\"][1])\n",
    "    return x_arr, y_arr\n",
    "    ##################"
   ]
  },
  {
   "cell_type": "code",
   "execution_count": null,
   "metadata": {},
   "outputs": [],
   "source": [
    "#same as creat_animation_multiple but with the number of bodies \n",
    "#and trails increased\n",
    "\n",
    "\n",
    "def create_animation_bodies(trajectories, dt, fps, speedup):\n",
    "    \"\"\"\n",
    "    Create an animation of objects with given trajectories.\n",
    "    \n",
    "    Arguments:\n",
    "        trajectories: list of trajectories, each of the form [x_arr, y_arr]\n",
    "                 where x_arr and y_arr are arrays of x and y coordinates at\n",
    "                 each time step\n",
    "        dt:           time step in simulation [s]\n",
    "        fps:          number of frames per second for animation\n",
    "        speedup:      ratio of simulated time to screen time\n",
    "    \"\"\"\n",
    "    # Find range of coordinates to include full trajectories \n",
    "    r_max = 1.05 * np.max(np.abs(trajectories))\n",
    "\n",
    "    # Create and configure figure and axes\n",
    "    plt.ioff()\n",
    "    fig, axes = plt.subplots()\n",
    "    axes.set_xlim(-r_max,r_max)\n",
    "    axes.set_ylim(-r_max,r_max)\n",
    "    axes.set_aspect('equal')\n",
    "    plt.plot(0,0,'o',color=\"orange\", markersize=10)\n",
    "\n",
    "    # Create Line2D objects to represent bodies and trails\n",
    "    bodies, trails = get_bodies_and_trails(axes, len(trajectories)) \n",
    "    body = bodies[0]\n",
    "    trail = trails[0]\n",
    "\n",
    "    # Get arrays of coordinates to display (subset of provided data)\n",
    "    frame_interval = 1/fps                  # time between frames [s]\n",
    "    skip = round(frame_interval*speedup/dt) # number of calculated points per frame\n",
    "    plot_trajectories = []\n",
    "    for trajectory in trajectories:\n",
    "        x_arr, y_arr = trajectory\n",
    "        x_plot = x_arr[::skip]  # take every Nth value (N = skip)\n",
    "        y_plot = y_arr[::skip]\n",
    "        plot_trajectory = [x_plot, y_plot]\n",
    "        plot_trajectories.append(plot_trajectory)\n",
    "        n_frames = len(x_plot)\n",
    "    \n",
    "    # Create and return animation object\n",
    "    ani = animation.FuncAnimation(fig,animate_multiple, frames=n_frames, interval=frame_interval*1000,\n",
    "                                  fargs=[bodies, trails, plot_trajectories])\n",
    "    return ani"
   ]
  },
  {
   "cell_type": "code",
   "execution_count": null,
   "metadata": {},
   "outputs": [],
   "source": [
    "def plot_multiple_bodies(bodies,n_years,dt):\n",
    "    YEAR = 3.154e7\n",
    "    t_max = YEAR*n_years\n",
    "    dt =  YEAR/10000\n",
    "    \n",
    "    traj_bodies = []\n",
    "    for body in bodies:\n",
    "        x_4, y_4 = trajectory_body(body,dt,t_max)\n",
    "        traj = [x_4,y_4] \n",
    "        traj_bodies.append(traj)\n",
    "\n",
    "    # One year is represented by 2 seconds in the animation\n",
    "    speedup = YEAR/2\n",
    "\n",
    "    # Create and display the animation\n",
    "    ani = create_animation_bodies(traj_bodies, dt, 50, speedup)\n",
    "    \n",
    "    return HTML(ani.to_jshtml())   "
   ]
  },
  {
   "cell_type": "code",
   "execution_count": null,
   "metadata": {},
   "outputs": [],
   "source": [
    "#dictionaries for positions, velocities and masses of bodies\n",
    "Mercury = {\"position\":[5.79e10,0],  \"velocity\":[0,5.37e4], \"mass\":3.30e23}\n",
    "Venus   = {\"position\":[1.082e11,0], \"velocity\":[0,3.96e4], \"mass\":4.87e24}\n",
    "Earth   = {\"position\":[1.496e11,0], \"velocity\":[0,3.38e4], \"mass\":5.97e24}\n",
    "Mars    = {\"position\":[2.280e11,0], \"velocity\":[0,2.73e4], \"mass\":6.42e23}\n",
    "Jupiter = {\"position\":[7.785e11,0], \"velocity\":[0,1.48e4], \"mass\":1.898e27}\n",
    "star    = {\"position\":[0,0],        \"velocity\":[0,0],      \"mass\":2.5e30}\n",
    "\n",
    "all_bodies = [Mercury, Venus, Earth, Mars, star]"
   ]
  },
  {
   "cell_type": "code",
   "execution_count": null,
   "metadata": {},
   "outputs": [],
   "source": [
    "G=6.67e-11\n",
    "plot_multiple_bodies(all_bodies,4,3.154e3)"
   ]
  },
  {
   "cell_type": "markdown",
   "metadata": {},
   "source": [
    "#### The above simulation takes real data as input and therefore models the dynamics of Solar System"
   ]
  },
  {
   "cell_type": "markdown",
   "metadata": {},
   "source": [
    "#### Note: The codes used in this notebook are mine (except Part A's). I used an alternate method to what was provided for help in the Supplementary notebook. "
   ]
  },
  {
   "cell_type": "markdown",
   "metadata": {},
   "source": [
    "## References\n",
    "\n",
    "[1] Planetary fact sheet-metric. Dr. David R Williams. NASA.\n",
    "\n",
    "[2] Which planet orbits our sun the fastest? Jeff Mangum. National Radio Astronomy Observatory.\n",
    "    \n",
    "[3] Waugh B. PHAS0007 Computing final assignment: supplementary notebook.\n",
    "\n",
    "[4] Waugh B, Chislett R, Dash L. PHAS0007 Computing Final Assignment 2022-23: Simulating Planetary Orbits."
   ]
  }
 ],
 "metadata": {
  "kernelspec": {
   "display_name": "Python 3 (ipykernel)",
   "language": "python",
   "name": "python3"
  },
  "language_info": {
   "codemirror_mode": {
    "name": "ipython",
    "version": 3
   },
   "file_extension": ".py",
   "mimetype": "text/x-python",
   "name": "python",
   "nbconvert_exporter": "python",
   "pygments_lexer": "ipython3",
   "version": "3.10.9"
  },
  "toc": {
   "base_numbering": 1,
   "nav_menu": {},
   "number_sections": false,
   "sideBar": true,
   "skip_h1_title": false,
   "title_cell": "Table of Contents",
   "title_sidebar": "Contents",
   "toc_cell": false,
   "toc_position": {
    "height": "calc(100% - 180px)",
    "left": "10px",
    "top": "150px",
    "width": "213.333px"
   },
   "toc_section_display": true,
   "toc_window_display": false
  }
 },
 "nbformat": 4,
 "nbformat_minor": 4
}
